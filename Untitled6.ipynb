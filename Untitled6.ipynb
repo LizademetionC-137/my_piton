{
 "cells": [
  {
   "cell_type": "code",
   "execution_count": 7,
   "metadata": {},
   "outputs": [
    {
     "name": "stdout",
     "output_type": "stream",
     "text": [
      "Data:[{'x': [1, 2, 3]}]\n",
      "PICKLE: b'\\x80\\x04\\x95\\x15\\x00\\x00\\x00\\x00\\x00\\x00\\x00]\\x94}\\x94\\x8c\\x01x\\x94]\\x94(K\\x01K\\x02K\\x03esa.'\n"
     ]
    }
   ],
   "source": [
    "import pickle\n",
    "import pprint\n",
    "original= [{'x':[1,2,3]}]\n",
    "\n",
    "print ('Data:', end= '')\n",
    "pprint.pprint (original)\n",
    "\n",
    "data_string = pickle.dumps(original) #преобразование структуры в строку \n",
    "print ('PICKLE: {!r}'.format(data_string)) #вывод"
   ]
  },
  {
   "cell_type": "code",
   "execution_count": 9,
   "metadata": {},
   "outputs": [
    {
     "name": "stdout",
     "output_type": "stream",
     "text": [
      "Restore\n",
      "KB\n"
     ]
    }
   ],
   "source": [
    "import shelve\n",
    " \n",
    "FILENAME = \"products2\"\n",
    "with shelve.open(FILENAME) as products:\n",
    "    products[\"Banana\"] = \"Lenta\"\n",
    "    products[\"Apple\"] = \"Restore\"\n",
    "    products[\"Mango\"] = \"Dixi\"\n",
    "    products[\"Choco\"] = \"KB\"\n",
    " \n",
    "with shelve.open(FILENAME) as products:\n",
    "    print(products[\"Apple\"])\n",
    "    print(products[\"Choco\"])"
   ]
  },
  {
   "cell_type": "code",
   "execution_count": 14,
   "metadata": {},
   "outputs": [
    {
     "name": "stdout",
     "output_type": "stream",
     "text": [
      "Restore\n",
      "KB\n",
      "('Apple', 'Restore')\n",
      "('Mango', 'Dixi')\n",
      "('Choco', 'KB')\n",
      "('Banana', 'Lenta')\n"
     ]
    }
   ],
   "source": [
    "import shelve\n",
    " \n",
    "FILENAME = \"products2\"\n",
    "with shelve.open(FILENAME) as products:\n",
    "    products[\"Banana\"] = \"Lenta\"\n",
    "    products[\"Apple\"] = \"Restore\"\n",
    "    products[\"Mango\"] = \"Dixi\"\n",
    "    products[\"Choco\"] = \"KB\"\n",
    " \n",
    "with shelve.open(FILENAME) as products:\n",
    "    print(products[\"Apple\"])\n",
    "    print(products[\"Choco\"])\n",
    "\n",
    "with shelve.open(FILENAME) as products:\n",
    "    for products in products.items():\n",
    "        print(products)"
   ]
  },
  {
   "cell_type": "code",
   "execution_count": null,
   "metadata": {},
   "outputs": [],
   "source": []
  }
 ],
 "metadata": {
  "kernelspec": {
   "display_name": "Python 3",
   "language": "python",
   "name": "python3"
  },
  "language_info": {
   "codemirror_mode": {
    "name": "ipython",
    "version": 3
   },
   "file_extension": ".py",
   "mimetype": "text/x-python",
   "name": "python",
   "nbconvert_exporter": "python",
   "pygments_lexer": "ipython3",
   "version": "3.8.3"
  }
 },
 "nbformat": 4,
 "nbformat_minor": 4
}
