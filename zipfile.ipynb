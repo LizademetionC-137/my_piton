{
 "cells": [
  {
   "cell_type": "markdown",
   "metadata": {},
   "source": [
    "# Модуль **zipfile** (входит в стандартный набор python) позволяет работать с zip-архивами."
   ]
  },
  {
   "cell_type": "code",
   "execution_count": 1,
   "metadata": {},
   "outputs": [],
   "source": [
    "import os #позволяет работать с файлами и папками \n",
    "import zipfile #подключаем модуль для архивации данных"
   ]
  },
  {
   "cell_type": "markdown",
   "metadata": {},
   "source": [
    "Чтобы записать или прочитать содержимое zip-файла, прежде всего необходимо создать объект ZipFile.\n",
    "\n",
    "ZipFile(filename [,mode[,compression[,allowZip64]]])\n",
    "\n",
    "\n",
    "filename — имя файла zip архива.\n",
    "\n",
    "\n",
    "mode\n",
    "\n",
    "\n",
    "    'r' — файл будет открыт для чтения (это режим по умолчанию);\n",
    "    \n",
    "    \n",
    "    'w' — файл будет открыт для записи; если файл не существует, он будет создан; если файл существует, он будет перезаписан;\n",
    "    \n",
    "    \n",
    "    'a' — существующий файл будет открыт в режиме добавления файлов в архив. (Если вы хотите добавить файл в архив, то режим записи должен быть 'a', иначе (при 'w') вы удалите из архива, все, что там раньше было)\n",
    "\n",
    "\n",
    "    \n",
    "    \n",
    "compression определяет метод сжатия, который должен использоваться при записи в архив. Он принимает одно из значений: ZIP_STORED или ZIP_DEFLATED. По умолчанию используется значение ZIP_STORED.\n",
    "    \n",
    "    \n",
    "allowZip64 позволяет разрешить использование расширений ZIP64, которые дают возможность создавать архивы размером больше 2 гигабайт. По умолчанию равен False."
   ]
  },
  {
   "cell_type": "markdown",
   "metadata": {},
   "source": [
    "# Создание архива, запись файлов и директорий:"
   ]
  },
  {
   "cell_type": "code",
   "execution_count": 2,
   "metadata": {},
   "outputs": [
    {
     "name": "stdout",
     "output_type": "stream",
     "text": [
      "['.DS_Store', 'Пример файла.docx', 'Данные']\n"
     ]
    }
   ],
   "source": [
    "os.chdir('/Users/lizochka2.0/Documents/test1') \n",
    "print(os.listdir())"
   ]
  },
  {
   "cell_type": "markdown",
   "metadata": {},
   "source": [
    "Обращаемся к модулю для архивации дальнейших записываемых данных"
   ]
  },
  {
   "cell_type": "code",
   "execution_count": 19,
   "metadata": {},
   "outputs": [],
   "source": [
    "zip_file = zipfile.ZipFile('Архив содержимого.zip', 'w')\n",
    "\n",
    "#записываем в архив файл \"Пример файла.docx\"\n",
    "zip_file.write('Пример файла.docx')\n",
    "\n",
    "#записываем целую структуру папок с подпапками\n",
    "for root, dirs,files in os.walk('Данные'):\n",
    "    for file in files:\n",
    "        zip_file.write(os.path.join(root,file))\n",
    "\n",
    "#закрываем архив\n",
    "zip_file.close()"
   ]
  },
  {
   "cell_type": "code",
   "execution_count": 20,
   "metadata": {},
   "outputs": [
    {
     "name": "stdout",
     "output_type": "stream",
     "text": [
      "['.DS_Store', 'Архив содержимого.zip', 'Пример файла.docx', 'Данные']\n"
     ]
    }
   ],
   "source": [
    "#теперь в текущей рабочей папке появляется архив с записанным файлом\n",
    "print(os.listdir())"
   ]
  },
  {
   "cell_type": "markdown",
   "metadata": {},
   "source": [
    "# Получаем информацию о файлах и директориях"
   ]
  },
  {
   "cell_type": "code",
   "execution_count": 5,
   "metadata": {},
   "outputs": [
    {
     "data": {
      "text/plain": [
       "['Пример файла.docx',\n",
       " 'Данные/.DS_Store',\n",
       " 'Данные/ЛЯЛЯЛЯ/tywnk.txt',\n",
       " 'Данные/ЛЯЛЯЛЯ/fhsk.txt',\n",
       " 'Данные/ЖУЖУЖУ/.DS_Store',\n",
       " 'Данные/ЖУЖУЖУ/c.txt',\n",
       " 'Данные/ЖУЖУЖУ/b.txt',\n",
       " 'Данные/ЖУЖУЖУ/a.txt',\n",
       " 'Данные/ТРУЛЯЛЯ/.DS_Store']"
      ]
     },
     "execution_count": 5,
     "metadata": {},
     "output_type": "execute_result"
    }
   ],
   "source": [
    "zipFile = zipfile.ZipFile('Архив содержимого.zip', 'r')\n",
    "zipFile.namelist() "
   ]
  },
  {
   "cell_type": "code",
   "execution_count": 10,
   "metadata": {},
   "outputs": [
    {
     "data": {
      "text/plain": [
       "23"
      ]
     },
     "execution_count": 10,
     "metadata": {},
     "output_type": "execute_result"
    }
   ],
   "source": [
    "#получаем информацию об отдельном файле\n",
    "zipInfo = zipFile.getinfo('Данные/ЛЯЛЯЛЯ/tywnk.txt')\n",
    "\n",
    "\n",
    "zipInfo.file_size #атрибут file_size выводит размер файла до сжатия\n",
    "\n"
   ]
  },
  {
   "cell_type": "code",
   "execution_count": 11,
   "metadata": {},
   "outputs": [
    {
     "data": {
      "text/plain": [
       "23"
      ]
     },
     "execution_count": 11,
     "metadata": {},
     "output_type": "execute_result"
    }
   ],
   "source": [
    "zipInfo.compress_size#атрибут compress_size выводит размер файла после сжатия"
   ]
  },
  {
   "cell_type": "code",
   "execution_count": 12,
   "metadata": {},
   "outputs": [],
   "source": [
    "zipFile.close() "
   ]
  },
  {
   "cell_type": "markdown",
   "metadata": {},
   "source": [
    "# Извлекаем из архива "
   ]
  },
  {
   "cell_type": "markdown",
   "metadata": {},
   "source": [
    "Метод extratall() объекта ZipFIle извлекает все файлы и каталоги из архива в текущую директорию, но можно передавать путь извлечения (как аргумент)."
   ]
  },
  {
   "cell_type": "code",
   "execution_count": 13,
   "metadata": {},
   "outputs": [],
   "source": [
    "zipFile = zipfile.ZipFile('Архив содержимого.zip', 'r')\n",
    "zipFile.extractall()  # извлекаем все содержимое\n",
    "\n"
   ]
  },
  {
   "cell_type": "markdown",
   "metadata": {},
   "source": [
    "Метод extract() объекта ZipFile извлекает точечно (по одному файлу):"
   ]
  },
  {
   "cell_type": "code",
   "execution_count": 14,
   "metadata": {},
   "outputs": [
    {
     "data": {
      "text/plain": [
       "'/Users/lizochka2.0/Documents/test1/Пример файла.docx'"
      ]
     },
     "execution_count": 14,
     "metadata": {},
     "output_type": "execute_result"
    }
   ],
   "source": [
    "zipFile.extract('Пример файла.docx')"
   ]
  },
  {
   "cell_type": "markdown",
   "metadata": {},
   "source": [
    "Является ли файл zip архивом:"
   ]
  },
  {
   "cell_type": "code",
   "execution_count": 16,
   "metadata": {},
   "outputs": [
    {
     "data": {
      "text/plain": [
       "True"
      ]
     },
     "execution_count": 16,
     "metadata": {},
     "output_type": "execute_result"
    }
   ],
   "source": [
    "zipfile.is_zipfile('Архив содержимого.zip')\n"
   ]
  },
  {
   "cell_type": "markdown",
   "metadata": {},
   "source": [
    "\n",
    "\n",
    "\n",
    "**Домашнее задание**\n",
    "С помощью метода extract() илиextractall() извлечь файл, но в другую директорию(указать путь) "
   ]
  },
  {
   "cell_type": "code",
   "execution_count": null,
   "metadata": {},
   "outputs": [],
   "source": []
  }
 ],
 "metadata": {
  "kernelspec": {
   "display_name": "Python 3",
   "language": "python",
   "name": "python3"
  },
  "language_info": {
   "codemirror_mode": {
    "name": "ipython",
    "version": 3
   },
   "file_extension": ".py",
   "mimetype": "text/x-python",
   "name": "python",
   "nbconvert_exporter": "python",
   "pygments_lexer": "ipython3",
   "version": "3.8.3"
  }
 },
 "nbformat": 4,
 "nbformat_minor": 4
}
