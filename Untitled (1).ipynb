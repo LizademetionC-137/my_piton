{
 "cells": [
  {
   "cell_type": "markdown",
   "metadata": {},
   "source": [
    "# heapq\n",
    "###  Этот модуль обеспечивает реализацию алгоритма очереди кучи, также известного как алгоритм очереди с приоритетом."
   ]
  },
  {
   "cell_type": "markdown",
   "metadata": {},
   "source": [
    "Кучи - это двоичные деревья, для которых каждый родительский узел имеет значение, меньшее или равное любому из его дочерних узлов.Интересным свойством кучи является то, что ее самым маленьким элементом всегда является корень."
   ]
  },
  {
   "cell_type": "code",
   "execution_count": 11,
   "metadata": {},
   "outputs": [
    {
     "name": "stdout",
     "output_type": "stream",
     "text": [
      "[2, 10, 5, 20, 15, 14]\n"
     ]
    }
   ],
   "source": [
    "import heapq as heap\n",
    "\n",
    "L = []\n",
    "heap.heappush(L,20) #помещает элемент значения в кучу , сохраняя неизменность кучи\n",
    "heap.heappush(L,14)\n",
    "heap.heappush(L,5)\n",
    "heap.heappush(L,15)\n",
    "heap.heappush(L,10)\n",
    "heap.heappush(L,2)\n",
    "\n",
    "print(L)"
   ]
  },
  {
   "cell_type": "code",
   "execution_count": 12,
   "metadata": {},
   "outputs": [
    {
     "name": "stdout",
     "output_type": "stream",
     "text": [
      "2\n"
     ]
    }
   ],
   "source": [
    "print(heap.heappop(L)) #Извлекает и возвращает наименьший элемент из кучи.\n"
   ]
  },
  {
   "cell_type": "code",
   "execution_count": 13,
   "metadata": {},
   "outputs": [
    {
     "name": "stdout",
     "output_type": "stream",
     "text": [
      "[5, 10, 14, 20, 15]\n"
     ]
    }
   ],
   "source": [
    "print(L)"
   ]
  },
  {
   "cell_type": "code",
   "execution_count": 14,
   "metadata": {},
   "outputs": [
    {
     "name": "stdout",
     "output_type": "stream",
     "text": [
      "5\n",
      "[10, 15, 14, 20, 18]\n"
     ]
    }
   ],
   "source": [
    "print(heap.heappushpop(L,18)) #Вставляет элемент в кучу, затем выталкивает и возвращает наименьший элемент из кучи .\n",
    "print(L)\n",
    "#минимальный элемент 5 был удален и элемент 18 добавлен"
   ]
  },
  {
   "cell_type": "markdown",
   "metadata": {},
   "source": [
    "## Поиск наименьших и наибольших элементов\n"
   ]
  },
  {
   "cell_type": "code",
   "execution_count": 15,
   "metadata": {},
   "outputs": [
    {
     "name": "stdout",
     "output_type": "stream",
     "text": [
      "[20, 18, 15]\n"
     ]
    }
   ],
   "source": [
    "L1=heap.nlargest(3,L)\n",
    "print(L1)"
   ]
  },
  {
   "cell_type": "code",
   "execution_count": 16,
   "metadata": {},
   "outputs": [
    {
     "name": "stdout",
     "output_type": "stream",
     "text": [
      "[10, 14, 15]\n"
     ]
    }
   ],
   "source": [
    "L2=heap.nsmallest(3,L)\n",
    "print(L2)"
   ]
  },
  {
   "cell_type": "markdown",
   "metadata": {},
   "source": [
    "### Преобразование списка в кучу\n"
   ]
  },
  {
   "cell_type": "code",
   "execution_count": 19,
   "metadata": {},
   "outputs": [
    {
     "name": "stdout",
     "output_type": "stream",
     "text": [
      "[3, 6, 20, 24, 12, 34, 33]\n"
     ]
    }
   ],
   "source": [
    "L3 = [20,12,34,24,6,3,33]\n",
    "heap.heapify(L3)\n",
    "print(L3)"
   ]
  }
 ],
 "metadata": {
  "kernelspec": {
   "display_name": "Python 3",
   "language": "python",
   "name": "python3"
  },
  "language_info": {
   "codemirror_mode": {
    "name": "ipython",
    "version": 3
   },
   "file_extension": ".py",
   "mimetype": "text/x-python",
   "name": "python",
   "nbconvert_exporter": "python",
   "pygments_lexer": "ipython3",
   "version": "3.8.3"
  }
 },
 "nbformat": 4,
 "nbformat_minor": 4
}
