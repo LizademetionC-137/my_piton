{
 "cells": [
  {
   "cell_type": "code",
   "execution_count": 8,
   "metadata": {},
   "outputs": [
    {
     "name": "stdout",
     "output_type": "stream",
     "text": [
      "scheme  : https\n",
      "netloc  : www.google.com\n",
      "path    : /\n",
      "params  : \n",
      "query   : client=safari&channel=iphone_bm\n",
      "fragment: \n",
      "username: None\n",
      "password: None\n",
      "hostname: www.google.com\n",
      "port    : None\n"
     ]
    }
   ],
   "source": [
    "import urllib.parse\n",
    "\n",
    "from urllib.parse import urlparse\n",
    "\n",
    "url = 'https://www.google.com/?client=safari&channel=iphone_bm'\n",
    "\n",
    "parsed = urlparse(url)\n",
    "\n",
    "print('scheme  :', parsed.scheme)\n",
    "print('netloc  :', parsed.netloc)\n",
    "print('path    :', parsed.path)\n",
    "print('params  :', parsed.params)\n",
    "print('query   :', parsed.query)\n",
    "print('fragment:', parsed.fragment)\n",
    "print('username:', parsed.username)\n",
    "print('password:', parsed.password)\n",
    "print('hostname:', parsed.hostname)\n",
    "print('port    :', parsed.port)"
   ]
  },
  {
   "cell_type": "code",
   "execution_count": 9,
   "metadata": {},
   "outputs": [
    {
     "name": "stdout",
     "output_type": "stream",
     "text": [
      "cfe935b8-484b-11eb-8e32-acde48001122\n",
      "<class 'uuid.UUID'>\n",
      "bytes   : b'\\xcf\\xe95\\xb8HK\\x11\\xeb\\x8e2\\xac\\xdeH\\x00\\x11\"'\n",
      "hex     : cfe935b8484b11eb8e32acde48001122\n",
      "int     : 276361089863580771460775703954057072930\n",
      "urn     : urn:uuid:cfe935b8-484b-11eb-8e32-acde48001122\n",
      "variant : specified in RFC 4122\n",
      "version : 1\n",
      "fields  : (3488167352, 18507, 4587, 142, 50, 190070690681122)\n",
      "  time_low            :  3488167352\n",
      "  time_mid            :  18507\n",
      "  time_hi_version     :  4587\n",
      "  clock_seq_hi_variant:  142\n",
      "  clock_seq_low       :  50\n",
      "  node                :  190070690681122\n",
      "  time                :  138283704012846520\n",
      "  clock_seq           :  3634\n",
      "https://vk.com/id105573141\n",
      "  MD5   : cbb92ff4-0f8f-3bd3-9742-2918da02806a\n",
      "  SHA-1 : e5567a49-b1d3-53a5-af78-59848cb56d91\n",
      "\n",
      "https://github.com/DashaDasha17\n",
      "  MD5   : f6b2629b-9856-3b6c-9ef4-2c06191db26a\n",
      "  SHA-1 : 0f2148f1-9fd2-5967-89c1-c75342ed2a07\n",
      "\n"
     ]
    }
   ],
   "source": [
    "import uuid\n",
    "\n",
    "u = uuid.uuid1()\n",
    "\n",
    "print(u)\n",
    "print(type(u))\n",
    "print('bytes   :', repr(u.bytes))\n",
    "print('hex     :', u.hex)\n",
    "print('int     :', u.int)\n",
    "print('urn     :', u.urn)\n",
    "print('variant :', u.variant)\n",
    "print('version :', u.version)\n",
    "print('fields  :', u.fields)\n",
    "print('  time_low            : ', u.time_low)\n",
    "print('  time_mid            : ', u.time_mid)\n",
    "print('  time_hi_version     : ', u.time_hi_version)\n",
    "print('  clock_seq_hi_variant: ', u.clock_seq_hi_variant)\n",
    "print('  clock_seq_low       : ', u.clock_seq_low)\n",
    "print('  node                : ', u.node)\n",
    "print('  time                : ', u.time)\n",
    "print('  clock_seq           : ', u.clock_seq)\n",
    "\n",
    "\n",
    "\n",
    "hostnames = ['https://vk.com/id105573141', 'https://github.com/DashaDasha17']\n",
    "\n",
    "for name in hostnames:\n",
    "    print(name)\n",
    "    print('  MD5   :', uuid.uuid3(uuid.NAMESPACE_DNS, name))\n",
    "    print('  SHA-1 :', uuid.uuid5(uuid.NAMESPACE_DNS, name))\n",
    "    print()"
   ]
  },
  {
   "cell_type": "code",
   "execution_count": 10,
   "metadata": {},
   "outputs": [
    {
     "name": "stdout",
     "output_type": "stream",
     "text": [
      "510cf760-6d63-43af-b07b-1b642b8ff89c\n",
      "0e02f5e2-f6b7-4309-882b-e8e420e3dee2\n",
      "f89028b3-7d5c-43d4-a79e-71378ad33af2\n"
     ]
    }
   ],
   "source": [
    "\n",
    "for i in range(3): \n",
    "    print(uuid.uuid4())"
   ]
  },
  {
   "cell_type": "code",
   "execution_count": 12,
   "metadata": {},
   "outputs": [],
   "source": [
    "import json"
   ]
  },
  {
   "cell_type": "code",
   "execution_count": 13,
   "metadata": {},
   "outputs": [
    {
     "name": "stdout",
     "output_type": "stream",
     "text": [
      "DATA: [{'my': 'yours', 'her': (2, 1), 'his': 5.0}]\n",
      "JSON: [{\"my\": \"yours\", \"her\": [2, 1], \"his\": 5.0}]\n"
     ]
    }
   ],
   "source": [
    "\n",
    "data = [{'my': 'yours', 'her': (2, 1), 'his': 5.0}]\n",
    "print('DATA:', repr(data))\n",
    "\n",
    "data_string = json.dumps(data)\n",
    "print('JSON:', data_string)"
   ]
  },
  {
   "cell_type": "code",
   "execution_count": 16,
   "metadata": {},
   "outputs": [
    {
     "name": "stdout",
     "output_type": "stream",
     "text": [
      "DATA   : [{'my': 'yours', 'her': (2, 1), 'his': 5.0}]\n",
      "ENCODED: [{\"my\": \"yours\", \"her\": [2, 1], \"his\": 5.0}]\n",
      "DECODED: [{'my': 'yours', 'her': [2, 1], 'his': 5.0}]\n",
      "ORIGINAL: <class 'float'>\n",
      "DECODED : <class 'float'>\n"
     ]
    }
   ],
   "source": [
    "data = [{'my': 'yours', 'her': (2, 1), 'his': 5.0}]\n",
    "print('DATA   :', data)\n",
    "\n",
    "data_string = json.dumps(data)\n",
    "print('ENCODED:', data_string)\n",
    "\n",
    "decoded = json.loads(data_string)\n",
    "print('DECODED:', decoded)\n",
    "\n",
    "print('ORIGINAL:', type(data[0]['his']))\n",
    "print('DECODED :', type(decoded[0]['his']))"
   ]
  },
  {
   "cell_type": "code",
   "execution_count": null,
   "metadata": {},
   "outputs": [],
   "source": []
  }
 ],
 "metadata": {
  "kernelspec": {
   "display_name": "Python 3",
   "language": "python",
   "name": "python3"
  },
  "language_info": {
   "codemirror_mode": {
    "name": "ipython",
    "version": 3
   },
   "file_extension": ".py",
   "mimetype": "text/x-python",
   "name": "python",
   "nbconvert_exporter": "python",
   "pygments_lexer": "ipython3",
   "version": "3.8.3"
  }
 },
 "nbformat": 4,
 "nbformat_minor": 4
}
