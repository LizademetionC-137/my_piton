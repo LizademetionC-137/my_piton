{
 "cells": [
  {
   "cell_type": "code",
   "execution_count": 3,
   "metadata": {},
   "outputs": [
    {
     "name": "stdout",
     "output_type": "stream",
     "text": [
      "/Users/twigtmm/Documents/питон\n",
      "/Users/twigtmm\n"
     ]
    }
   ],
   "source": [
    "from pathlib import *\n",
    "current_dir = Path.cwd()\n",
    "home_dir = Path.home()\n",
    "print(current_dir)\n",
    "print(home_dir)"
   ]
  },
  {
   "cell_type": "code",
   "execution_count": 17,
   "metadata": {},
   "outputs": [],
   "source": [
    "import pathlib\n",
    "pathlib.Path('/Users/twigtmm/Documents/питон/file.txt').mkdir(parents=True, exist_ok=True) "
   ]
  },
  {
   "cell_type": "code",
   "execution_count": 19,
   "metadata": {},
   "outputs": [
    {
     "name": "stdout",
     "output_type": "stream",
     "text": [
      "Removing /Users/twigtmm/Documents/питон/file.txt\n"
     ]
    }
   ],
   "source": [
    "from pathlib import Path\n",
    "p = pathlib.Path('/Users/twigtmm/Documents/питон/file.txt')\n",
    "print('Removing {}'.format(p))\n",
    "p.rmdir()\n"
   ]
  },
  {
   "cell_type": "code",
   "execution_count": 20,
   "metadata": {},
   "outputs": [
    {
     "name": "stdout",
     "output_type": "stream",
     "text": [
      "/Users/twigtmm/opt/anaconda3\n"
     ]
    }
   ],
   "source": [
    "import os\n",
    " \n",
    "print(os.environ[\"CONDA_PREFIX\"])"
   ]
  },
  {
   "cell_type": "code",
   "execution_count": 21,
   "metadata": {},
   "outputs": [
    {
     "name": "stdout",
     "output_type": "stream",
     "text": [
      "/Users/twigtmm/opt/anaconda3\n"
     ]
    }
   ],
   "source": [
    "import os\n",
    " \n",
    "print(os.getenv(\"CONDA_PREFIX\"))"
   ]
  },
  {
   "cell_type": "code",
   "execution_count": 22,
   "metadata": {},
   "outputs": [
    {
     "name": "stdout",
     "output_type": "stream",
     "text": [
      "/Users/twigtmm/Documents/питон\n"
     ]
    }
   ],
   "source": [
    "import os\n",
    " \n",
    "print(os.getcwd())\n"
   ]
  },
  {
   "cell_type": "code",
   "execution_count": 29,
   "metadata": {},
   "outputs": [],
   "source": [
    "import os\n",
    " \n",
    "os.remove(\"/Users/twigtmm/Documents/питон/2.jpg\")"
   ]
  },
  {
   "cell_type": "code",
   "execution_count": 30,
   "metadata": {},
   "outputs": [],
   "source": [
    "import sys\n",
    "sys.path.append(\"/path/to/my/module\")"
   ]
  },
  {
   "cell_type": "code",
   "execution_count": 31,
   "metadata": {},
   "outputs": [
    {
     "name": "stdout",
     "output_type": "stream",
     "text": [
      "['/Users/twigtmm/Documents/питон', '/Users/twigtmm/opt/anaconda3/lib/python38.zip', '/Users/twigtmm/opt/anaconda3/lib/python3.8', '/Users/twigtmm/opt/anaconda3/lib/python3.8/lib-dynload', '', '/Users/twigtmm/opt/anaconda3/lib/python3.8/site-packages', '/Users/twigtmm/opt/anaconda3/lib/python3.8/site-packages/aeosa', '/Users/twigtmm/opt/anaconda3/lib/python3.8/site-packages/IPython/extensions', '/Users/twigtmm/.ipython', '/path/to/my/module']\n"
     ]
    }
   ],
   "source": [
    "import sys\n",
    "print(sys.path)"
   ]
  },
  {
   "cell_type": "code",
   "execution_count": 32,
   "metadata": {},
   "outputs": [],
   "source": [
    "import sys\n",
    "sys.path.remove(\"/path/to/my/module\")"
   ]
  },
  {
   "cell_type": "code",
   "execution_count": 33,
   "metadata": {},
   "outputs": [
    {
     "name": "stdout",
     "output_type": "stream",
     "text": [
      "darwin\n"
     ]
    }
   ],
   "source": [
    "import sys\n",
    "print(sys.platform)"
   ]
  },
  {
   "cell_type": "code",
   "execution_count": 34,
   "metadata": {},
   "outputs": [
    {
     "name": "stdout",
     "output_type": "stream",
     "text": [
      "/Users/twigtmm/opt/anaconda3/bin/python\n"
     ]
    }
   ],
   "source": [
    "import sys\n",
    " \n",
    "print(sys.executable)"
   ]
  },
  {
   "cell_type": "code",
   "execution_count": null,
   "metadata": {},
   "outputs": [],
   "source": []
  }
 ],
 "metadata": {
  "kernelspec": {
   "display_name": "Python 3",
   "language": "python",
   "name": "python3"
  },
  "language_info": {
   "codemirror_mode": {
    "name": "ipython",
    "version": 3
   },
   "file_extension": ".py",
   "mimetype": "text/x-python",
   "name": "python",
   "nbconvert_exporter": "python",
   "pygments_lexer": "ipython3",
   "version": "3.8.3"
  }
 },
 "nbformat": 4,
 "nbformat_minor": 4
}
