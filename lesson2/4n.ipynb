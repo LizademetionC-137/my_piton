{
 "cells": [
  {
   "cell_type": "code",
   "execution_count": 7,
   "metadata": {},
   "outputs": [
    {
     "name": "stdout",
     "output_type": "stream",
     "text": [
      "pack_obj =  b'\\x00\\x00\\x80?\\x00\\x00@@\\x00\\x00\\x10A\\x00\\x00HA'\n",
      "T2 =  (1.0, 3.0, 9.0, 12.5)\n"
     ]
    }
   ],
   "source": [
    "import struct\n",
    "import binascii\n",
    "lst = [ 1, 3, 9, 12.5 ]\n",
    "pack_obj = struct.pack('<4f', lst[0], lst[1], lst[2], lst[3])\n",
    "print('pack_obj = ', pack_obj)\n",
    "T2 = struct.unpack('<4f', pack_obj)\n",
    "print('T2 = ', T2)"
   ]
  },
  {
   "cell_type": "code",
   "execution_count": 11,
   "metadata": {},
   "outputs": [
    {
     "name": "stdout",
     "output_type": "stream",
     "text": [
      "WIDTH = 10\n",
      "[(1,\n",
      "  {'a': 'A',\n",
      "   'b': 'B',\n",
      "   'c': 'C',\n",
      "   'd': 'D'}),\n",
      " (2,\n",
      "  {'e': 'E',\n",
      "   'f': 'F',\n",
      "   'g': 'G',\n",
      "   'h': 'H',\n",
      "   'i': 'I',\n",
      "   'j': 'J',\n",
      "   'k': 'K',\n",
      "   'l': 'L'}),\n",
      " (3,\n",
      "  ['m',\n",
      "   'n']),\n",
      " (4,\n",
      "  ['o',\n",
      "   'p',\n",
      "   'q']),\n",
      " (5,\n",
      "  ['r',\n",
      "   's',\n",
      "   'tu',\n",
      "   'v',\n",
      "   'x',\n",
      "   'y',\n",
      "   'z'])]\n",
      "\n",
      "WIDTH = 5\n",
      "[(1,\n",
      "  {'a': 'A',\n",
      "   'b': 'B',\n",
      "   'c': 'C',\n",
      "   'd': 'D'}),\n",
      " (2,\n",
      "  {'e': 'E',\n",
      "   'f': 'F',\n",
      "   'g': 'G',\n",
      "   'h': 'H',\n",
      "   'i': 'I',\n",
      "   'j': 'J',\n",
      "   'k': 'K',\n",
      "   'l': 'L'}),\n",
      " (3,\n",
      "  ['m',\n",
      "   'n']),\n",
      " (4,\n",
      "  ['o',\n",
      "   'p',\n",
      "   'q']),\n",
      " (5,\n",
      "  ['r',\n",
      "   's',\n",
      "   'tu',\n",
      "   'v',\n",
      "   'x',\n",
      "   'y',\n",
      "   'z'])]\n",
      "\n"
     ]
    }
   ],
   "source": [
    "data = [\n",
    "    (1, {'a': 'A', 'b': 'B', 'c': 'C', 'd': 'D'}),\n",
    "    (2, {'e': 'E', 'f': 'F', 'g': 'G', 'h': 'H',\n",
    "         'i': 'I', 'j': 'J', 'k': 'K', 'l': 'L'}),\n",
    "    (3, ['m', 'n']),\n",
    "    (4, ['o', 'p', 'q']),\n",
    "    (5, ['r', 's', 't''u', 'v', 'x', 'y', 'z']),\n",
    "]\n",
    "from pprint import pprint\n",
    "\n",
    "for width in [10, 5]:\n",
    "    print('WIDTH =', width)\n",
    "    pprint(data, width=width)\n",
    "    print()"
   ]
  },
  {
   "cell_type": "code",
   "execution_count": 19,
   "metadata": {},
   "outputs": [
    {
     "name": "stdout",
     "output_type": "stream",
     "text": [
      "['ИБ-1801', 'ИБ-1701', 'ИБ-1601', ['ИБ-1801', 'ИБ-1701', 'ИБ-1601', 'ИБ-1501']] ['ИБ-1801', 'ИБ-1701', 'ИБ-1601', ['ИБ-1801', 'ИБ-1701', 'ИБ-1601', 'ИБ-1501']]\n"
     ]
    }
   ],
   "source": [
    "import copy\n",
    "test_1 = ['ИБ-1801', 'ИБ-1701', 'ИБ-1601', ['ИБ-1801', 'ИБ-1701', 'ИБ-1601']]\n",
    "test_copy = copy.copy(test_1)\n",
    "test_copy[3].append('ИБ-1501')\n",
    "print(test_1, test_copy)\n"
   ]
  },
  {
   "cell_type": "code",
   "execution_count": 18,
   "metadata": {},
   "outputs": [
    {
     "name": "stdout",
     "output_type": "stream",
     "text": [
      "['ИБ-1801', 'ИБ-1701', 'ИБ-1601', ['ИБ-1801', 'ИБ-1701', 'ИБ-1601']] ['ИБ-1801', 'ИБ-1701', 'ИБ-1601', ['ИБ-1801', 'ИБ-1701', 'ИБ-1601', 'ИБ-1501']]\n"
     ]
    }
   ],
   "source": [
    "import copy\n",
    "test1 = ['ИБ-1801', 'ИБ-1701', 'ИБ-1601', ['ИБ-1801', 'ИБ-1701', 'ИБ-1601']]\n",
    "test_deepcopy = copy.deepcopy(test1)\n",
    "test_deepcopy[3].append('ИБ-1501')\n",
    "print(test1, test_deepcopy)"
   ]
  },
  {
   "cell_type": "code",
   "execution_count": null,
   "metadata": {},
   "outputs": [],
   "source": []
  }
 ],
 "metadata": {
  "kernelspec": {
   "display_name": "Python 3",
   "language": "python",
   "name": "python3"
  },
  "language_info": {
   "codemirror_mode": {
    "name": "ipython",
    "version": 3
   },
   "file_extension": ".py",
   "mimetype": "text/x-python",
   "name": "python",
   "nbconvert_exporter": "python",
   "pygments_lexer": "ipython3",
   "version": "3.8.3"
  }
 },
 "nbformat": 4,
 "nbformat_minor": 4
}
