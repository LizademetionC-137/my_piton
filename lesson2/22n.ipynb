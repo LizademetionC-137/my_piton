{
 "cells": [
  {
   "cell_type": "code",
   "execution_count": 9,
   "metadata": {},
   "outputs": [
    {
     "name": "stdout",
     "output_type": "stream",
     "text": [
      "Traceback (most recent call last):\n",
      "  File \"<ipython-input-9-9dce03a11f34>\", line 7, in <module>\n",
      "    say_hello('Даша')\n",
      "  File \"<ipython-input-9-9dce03a11f34>\", line 5, in say_hello\n",
      "    print('Привет, ' + wrong_variable)\n",
      "NameError: name 'wrong_variable' is not defined\n",
      "\n"
     ]
    }
   ],
   "source": [
    "import sys\n",
    "import traceback\n",
    "\n",
    "def say_hello(human):\n",
    "    print('Привет, ' + wrong_variable)\n",
    "try:\n",
    "    say_hello('Даша')\n",
    "except Exception as e:\n",
    "    print (traceback.format_exc(10))"
   ]
  },
  {
   "cell_type": "code",
   "execution_count": null,
   "metadata": {},
   "outputs": [],
   "source": []
  }
 ],
 "metadata": {
  "kernelspec": {
   "display_name": "Python 3",
   "language": "python",
   "name": "python3"
  },
  "language_info": {
   "codemirror_mode": {
    "name": "ipython",
    "version": 3
   },
   "file_extension": ".py",
   "mimetype": "text/x-python",
   "name": "python",
   "nbconvert_exporter": "python",
   "pygments_lexer": "ipython3",
   "version": "3.8.3"
  }
 },
 "nbformat": 4,
 "nbformat_minor": 4
}
