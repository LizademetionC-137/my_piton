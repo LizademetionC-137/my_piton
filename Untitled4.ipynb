{
 "cells": [
  {
   "cell_type": "code",
   "execution_count": 20,
   "metadata": {},
   "outputs": [
    {
     "name": "stdout",
     "output_type": "stream",
     "text": [
      "Creating newcatalog0\n",
      "['Untitled1.ipynb', 'newcatalog1', '.DS_Store', 'newcatalog0', 'Untitled3.ipynb', 'Untitled.ipynb', 'Untitled4.ipynb', 'os_directories_example', 'Untitled2.ipynb', '.ipynb_checkpoints']\n",
      "\n",
      "Creating newcatalog0/Untitled5.ipynb\n",
      "['Untitled5.ipynb', 'Untitled6.ipynb']\n"
     ]
    }
   ],
   "source": [
    "import os\n",
    "dir_name = 'newcatalog0'\n",
    "print('Creating', dir_name)\n",
    "os.makedirs(dir_name)\n",
    "print(os.listdir('.'))\n",
    "file_name = os.path.join(dir_name, 'Untitled5.ipynb')\n",
    "print('\\nCreating', file_name)\n",
    "with open(file_name,'wt') as f:\n",
    "    f.write('example file')\n",
    "file_name = os.path.join(dir_name, 'Untitled6.ipynb')\n",
    "with open(file_name,'wt') as f:\n",
    "    f.write('example file2')\n",
    "print(os.listdir(dir_name))"
   ]
  },
  {
   "cell_type": "code",
   "execution_count": 22,
   "metadata": {},
   "outputs": [
    {
     "name": "stdout",
     "output_type": "stream",
     "text": [
      "Testing: Untitled1.ipynb\n",
      "Exists: True\n",
      "Readable: True\n",
      "Writable: True\n",
      "Executable: False\n"
     ]
    }
   ],
   "source": [
    "import os\n",
    "filename = 'Untitled1.ipynb'\n",
    "print('Testing:', filename)\n",
    "print('Exists:', os.access(filename, os.F_OK))\n",
    "print('Readable:', os.access(filename, os.R_OK))\n",
    "print('Writable:', os.access(filename, os.W_OK))\n",
    "print('Executable:', os.access(filename, os.X_OK))"
   ]
  },
  {
   "cell_type": "code",
   "execution_count": 23,
   "metadata": {},
   "outputs": [
    {
     "name": "stdout",
     "output_type": "stream",
     "text": [
      "adding write permission\n"
     ]
    }
   ],
   "source": [
    "import os\n",
    "import stat\n",
    "filename = 'Untitled1.ipynb'\n",
    "existing_permissions = stat.S_IMODE(os.stat(filename).st_mode)\n",
    "if not os.access(filename,os.X_OK):\n",
    "    print('adding write permission')\n",
    "    new_permissions = existing_permissions | stat.S_IWOTH\n",
    "os.chmod(filename, new_permissions)"
   ]
  },
  {
   "cell_type": "code",
   "execution_count": 25,
   "metadata": {},
   "outputs": [
    {
     "name": "stdout",
     "output_type": "stream",
     "text": [
      "forbid permission\n"
     ]
    }
   ],
   "source": [
    "import os\n",
    "import stat\n",
    "filename = 'Untitled2.ipynb'\n",
    "existing_permissions = stat.S_IMODE(os.stat(filename).st_mode)\n",
    "if not os.access(filename,os.X_OK):\n",
    "    print('forbid permission')\n",
    "    new_permissions = existing_permissions | stat.S_IWUSR\n",
    "os.chmod(filename, new_permissions)"
   ]
  },
  {
   "cell_type": "code",
   "execution_count": 29,
   "metadata": {},
   "outputs": [
    {
     "name": "stdout",
     "output_type": "stream",
     "text": [
      "/Users/twigtmm/Documents/питон/newcatalog0\n",
      " Untitled5.ipynb\n",
      " Untitled6.ipynb\n",
      "\n"
     ]
    }
   ],
   "source": [
    "import os\n",
    "for dir_name, sub_dirs, files in os.walk('/Users/twigtmm/Documents/питон/newcatalog0'):\n",
    "    print(dir_name)\n",
    "    sub_dirs = [n + '/' for n in sub_dirs] \n",
    "    contents = sub_dirs + files \n",
    "    contents.sort ()\n",
    "    for c in contents:\n",
    "        print(' {}'.format(c))\n",
    "    print()"
   ]
  },
  {
   "cell_type": "code",
   "execution_count": 31,
   "metadata": {},
   "outputs": [
    {
     "name": "stdout",
     "output_type": "stream",
     "text": [
      "\n",
      "Cleaning up\n",
      "['Untitled1.ipynb', 'newcatalog1', '.DS_Store', 'Untitled3.ipynb', 'Untitled.ipynb', 'Untitled4.ipynb', 'os_directories_example', 'Untitled2.ipynb', '.ipynb_checkpoints']\n"
     ]
    }
   ],
   "source": [
    "import os\n",
    "dir_name = 'newcatalog0'\n",
    "file_name = os.path.join(dir_name, 'Untitled5.ipynb')\n",
    "print('\\nCleaning up')\n",
    "os.unlink(file_name)\n",
    "os.rmdir(dir_name)\n",
    "print(os.listdir('.'))"
   ]
  },
  {
   "cell_type": "code",
   "execution_count": 37,
   "metadata": {},
   "outputs": [
    {
     "name": "stdout",
     "output_type": "stream",
     "text": [
      "Version      : 3.8.3\n",
      "Version tuple: ('3', '8', '3')\n",
      "Compiler     : Clang 10.0.0 \n",
      "Build        : ('default', 'Jul  2 2020 11:26:31')\n"
     ]
    }
   ],
   "source": [
    "import platform\n",
    "print('Version      :', platform.python_version())\n",
    "print('Version tuple:', platform.python_version_tuple())\n",
    "print('Compiler     :', platform.python_compiler())\n",
    "print('Build        :', platform.python_build())"
   ]
  },
  {
   "cell_type": "code",
   "execution_count": 38,
   "metadata": {},
   "outputs": [
    {
     "name": "stdout",
     "output_type": "stream",
     "text": [
      "Normal : macOS-10.15.7-x86_64-i386-64bit\n",
      "Aliased: macOS-10.15.7-x86_64-i386-64bit\n",
      "Terse  : macOS-10.15.7\n"
     ]
    }
   ],
   "source": [
    "import platform\n",
    "print('Normal :', platform.platform())\n",
    "print('Aliased:', platform.platform(aliased=True))\n",
    "print('Terse  :', platform.platform(terse=True))"
   ]
  },
  {
   "cell_type": "code",
   "execution_count": 39,
   "metadata": {},
   "outputs": [
    {
     "name": "stdout",
     "output_type": "stream",
     "text": [
      "uname: uname_result(system='Darwin', node='MacBook-Twigtmm.local', release='19.6.0', version='Darwin Kernel Version 19.6.0: Mon Aug 31 22:12:52 PDT 2020; root:xnu-6153.141.2~1/RELEASE_X86_64', machine='x86_64', processor='i386')\n",
      "\n",
      "system   : Darwin\n",
      "node     : MacBook-Twigtmm.local\n",
      "release  : 19.6.0\n",
      "version  : Darwin Kernel Version 19.6.0: Mon Aug 31 22:12:52 PDT 2020; root:xnu-6153.141.2~1/RELEASE_X86_64\n",
      "machine  : x86_64\n",
      "processor: i386\n"
     ]
    }
   ],
   "source": [
    "import platform\n",
    "print('uname:', platform.uname())\n",
    "print()\n",
    "print('system   :', platform.system())\n",
    "print('node     :', platform.node())\n",
    "print('release  :', platform.release())\n",
    "print('version  :', platform.version())\n",
    "print('machine  :', platform.machine())\n",
    "print('processor:', platform.processor())"
   ]
  },
  {
   "cell_type": "code",
   "execution_count": 40,
   "metadata": {},
   "outputs": [
    {
     "name": "stdout",
     "output_type": "stream",
     "text": [
      "interpreter: ('64bit', '')\n",
      "/bin/ls    : ('64bit', '')\n"
     ]
    }
   ],
   "source": [
    "import platform\n",
    "print('interpreter:', platform.architecture())\n",
    "print('/bin/ls    :', platform.architecture('/bin/ls'))"
   ]
  },
  {
   "cell_type": "code",
   "execution_count": 41,
   "metadata": {},
   "outputs": [
    {
     "name": "stdout",
     "output_type": "stream",
     "text": [
      "User time                 (ru_utime  ) = 0.739398\n",
      "System time               (ru_stime  ) = 0.298047\n",
      "Max. Resident Set Size    (ru_maxrss ) = 46116864\n",
      "Shared Memory Size        (ru_ixrss  ) = 0\n",
      "Unshared Memory Size      (ru_idrss  ) = 0\n",
      "Stack Size                (ru_isrss  ) = 0\n",
      "Block inputs              (ru_inblock) = 0\n",
      "Block outputs             (ru_oublock) = 0\n"
     ]
    }
   ],
   "source": [
    "import resource\n",
    "import time\n",
    "RESOURCES = [\n",
    "    ('ru_utime', 'User time'),\n",
    "    ('ru_stime', 'System time'),\n",
    "    ('ru_maxrss', 'Max. Resident Set Size'),\n",
    "    ('ru_ixrss', 'Shared Memory Size'),\n",
    "    ('ru_idrss', 'Unshared Memory Size'),\n",
    "    ('ru_isrss', 'Stack Size'),\n",
    "    ('ru_inblock', 'Block inputs'),\n",
    "    ('ru_oublock', 'Block outputs')\n",
    "]\n",
    "usage = resource.getrusage(resource.RUSAGE_SELF)\n",
    "for name, desc in RESOURCES:\n",
    "    print('{:<25} ({:<10}) = {}'.format(desc, name, getattr(usage, name)))"
   ]
  },
  {
   "cell_type": "code",
   "execution_count": null,
   "metadata": {},
   "outputs": [],
   "source": []
  }
 ],
 "metadata": {
  "kernelspec": {
   "display_name": "Python 3",
   "language": "python",
   "name": "python3"
  },
  "language_info": {
   "codemirror_mode": {
    "name": "ipython",
    "version": 3
   },
   "file_extension": ".py",
   "mimetype": "text/x-python",
   "name": "python",
   "nbconvert_exporter": "python",
   "pygments_lexer": "ipython3",
   "version": "3.8.3"
  }
 },
 "nbformat": 4,
 "nbformat_minor": 4
}
