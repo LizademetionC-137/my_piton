{
 "cells": [
  {
   "cell_type": "code",
   "execution_count": 4,
   "metadata": {},
   "outputs": [
    {
     "name": "stdin",
     "output_type": "stream",
     "text": [
      " п\n",
      " ы\n"
     ]
    },
    {
     "name": "stdout",
     "output_type": "stream",
     "text": [
      "Прошло: 3.245914374999984 секунд\n"
     ]
    }
   ],
   "source": [
    "import time\n",
    "from time import perf_counter\n",
    "strt = str(input())\n",
    "start=perf_counter()\n",
    "stop = str(input())\n",
    "stp=perf_counter()\n",
    "print(\"Прошло:\",stp-start,\"секунд\")"
   ]
  },
  {
   "cell_type": "code",
   "execution_count": 17,
   "metadata": {},
   "outputs": [
    {
     "name": "stdout",
     "output_type": "stream",
     "text": [
      "Сейчас     : 2020-10-10 12:53:59.251761\n",
      "Потом      : 3021-02-11 09:53:59.252128\n"
     ]
    }
   ],
   "source": [
    "import datetime\n",
    "format = \"%a %b %d %H:%M:%S %Y\"\n",
    "d1 = datetime.timedelta(hours=21,days=365365)\n",
    "today = datetime.datetime.today()\n",
    "print('Сейчас     :', today)\n",
    "print('Потом      :', datetime.datetime.today()+d1)\n"
   ]
  },
  {
   "cell_type": "code",
   "execution_count": 49,
   "metadata": {},
   "outputs": [
    {
     "name": "stdout",
     "output_type": "stream",
     "text": [
      "      May 2019\n",
      "Th Fr Sa Su Mo Tu We\n",
      "                   1\n",
      " 2  3  4  5  6  7  8\n",
      " 9 10 11 12 13 14 15\n",
      "16 17 18 19 20 21 22\n",
      "23 24 25 26 27 28 29\n",
      "30 31\n"
     ]
    }
   ],
   "source": [
    "import calendar\n",
    "\n",
    "c = calendar.TextCalendar(firstweekday=calendar.THURSDAY)\n",
    "c.prmonth(2019,5, w=0, l=0)"
   ]
  },
  {
   "cell_type": "code",
   "execution_count": null,
   "metadata": {},
   "outputs": [],
   "source": []
  }
 ],
 "metadata": {
  "kernelspec": {
   "display_name": "Python 3",
   "language": "python",
   "name": "python3"
  },
  "language_info": {
   "codemirror_mode": {
    "name": "ipython",
    "version": 3
   },
   "file_extension": ".py",
   "mimetype": "text/x-python",
   "name": "python",
   "nbconvert_exporter": "python",
   "pygments_lexer": "ipython3",
   "version": "3.8.3"
  }
 },
 "nbformat": 4,
 "nbformat_minor": 4
}
