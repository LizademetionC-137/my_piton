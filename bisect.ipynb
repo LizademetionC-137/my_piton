{
 "cells": [
  {
   "cell_type": "markdown",
   "metadata": {},
   "source": [
    "# Bisect\n",
    "\n",
    "### Этот модуль обеспечивает поддержку списка в отсортированном порядке без необходимости сортировать список после каждой вставки. Модуль вызывается, bisect потому что он использует базовый алгоритм деления пополам для выполнения своей работы."
   ]
  },
  {
   "cell_type": "code",
   "execution_count": 7,
   "metadata": {},
   "outputs": [],
   "source": [
    "import bisect\n",
    "\n",
    "a = [1,2,3,4,5,6,7]\n",
    "b = 4 #как найти позицию для числа? \n"
   ]
  },
  {
   "cell_type": "markdown",
   "metadata": {},
   "source": [
    "bisect.bisect_left() - Найдет точку вставки b в a, если b уже присутствует в a ,\n",
    "                       точка вставки будет перед любыми существующими  записями (слева от них).\n",
    "\n",
    "bisect.bisect_right() - Возвращает точку вставки, которая идет после (справа) \n",
    "                        любых существующих записей x в a . \n",
    "\n",
    "bisect.bisect() - Аналогично bisect_right(), сокращенный bisect_right\n",
    "    "
   ]
  },
  {
   "cell_type": "code",
   "execution_count": 8,
   "metadata": {},
   "outputs": [
    {
     "name": "stdout",
     "output_type": "stream",
     "text": [
      "3 4 4\n"
     ]
    }
   ],
   "source": [
    "print(bisect.bisect_left(a,b),\n",
    "      bisect.bisect_right(a,b) ,\n",
    "      bisect.bisect(a,b)) #только покажут нам позицию куда нужно вставить элемент"
   ]
  },
  {
   "cell_type": "markdown",
   "metadata": {},
   "source": [
    "Для вставки элемента в a мы будем использовать bisect.insort()(предпологая что a уже отсортирован)"
   ]
  },
  {
   "cell_type": "code",
   "execution_count": 9,
   "metadata": {},
   "outputs": [
    {
     "name": "stdout",
     "output_type": "stream",
     "text": [
      "[1, 2, 3, 4, 4, 5, 6, 7]\n"
     ]
    }
   ],
   "source": [
    "a.insert(bisect.bisect(a, b), b) #bisect используется для поиска позиции b в a и дальше вставляется в a \n",
    "print(a)"
   ]
  },
  {
   "cell_type": "code",
   "execution_count": 11,
   "metadata": {},
   "outputs": [
    {
     "name": "stdout",
     "output_type": "stream",
     "text": [
      "[1, 2, 3, 4, 4, 5, 6, 7, 12]\n"
     ]
    }
   ],
   "source": [
    "bisect.insort(a,12)\n",
    "print(a)"
   ]
  },
  {
   "cell_type": "markdown",
   "metadata": {},
   "source": [
    "bisect.insort_left() - элемент вставляется перед дубликатом\n",
    "bisect.insort_right() - после дубликата"
   ]
  },
  {
   "cell_type": "markdown",
   "metadata": {},
   "source": [
    "### Ноmework\n",
    "Вставьте элемент слева от его дубликата. "
   ]
  },
  {
   "cell_type": "code",
   "execution_count": null,
   "metadata": {},
   "outputs": [],
   "source": []
  }
 ],
 "metadata": {
  "kernelspec": {
   "display_name": "Python 3",
   "language": "python",
   "name": "python3"
  },
  "language_info": {
   "codemirror_mode": {
    "name": "ipython",
    "version": 3
   },
   "file_extension": ".py",
   "mimetype": "text/x-python",
   "name": "python",
   "nbconvert_exporter": "python",
   "pygments_lexer": "ipython3",
   "version": "3.8.3"
  }
 },
 "nbformat": 4,
 "nbformat_minor": 4
}
