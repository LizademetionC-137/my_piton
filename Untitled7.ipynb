{
 "cells": [
  {
   "cell_type": "code",
   "execution_count": 1,
   "metadata": {},
   "outputs": [
    {
     "name": "stdout",
     "output_type": "stream",
     "text": [
      "Exiting\n"
     ]
    },
    {
     "name": "stderr",
     "output_type": "stream",
     "text": [
      "gc: collecting generation 2...\n",
      "gc: objects in each generation: 273 1968 48181\n",
      "gc: objects in permanent generation: 0\n",
      "gc: done, 73 unreachable, 0 uncollectable, 0.0173s elapsed\n"
     ]
    }
   ],
   "source": [
    "import gc\n",
    "\n",
    "gc.set_debug(gc.DEBUG_STATS)\n",
    "\n",
    "gc.collect()\n",
    "print('Exiting')\n"
   ]
  },
  {
   "cell_type": "code",
   "execution_count": 2,
   "metadata": {},
   "outputs": [
    {
     "name": "stdout",
     "output_type": "stream",
     "text": [
      "CleanupGraph(three).__del__()\n",
      "Collecting\n",
      "CleanupGraph(four).__del__()\n",
      "CleanupGraph(five).__del__()\n",
      "Done\n",
      "Retained: Graph(one) Ox7fdd85f2b280\n",
      "Retained: Graph(two) Ox7fdd85f2b2e0\n",
      "Retained: CleanupGraph(four) Ox7fdd85f2b340\n",
      "Retained: CleanupGraph(five) Ox7fdd85f2b520\n"
     ]
    },
    {
     "name": "stderr",
     "output_type": "stream",
     "text": [
      "gc: collecting generation 0...\n",
      "gc: objects in each generation: 831 0 50063\n",
      "gc: objects in permanent generation: 0\n",
      "gc: done, 15 unreachable, 0 uncollectable, 0.0001s elapsed\n",
      "gc: collectable <Graph 0x7fdd85f2b280>\n",
      "gc: collectable <Graph 0x7fdd85f2b2e0>\n",
      "gc: collectable <dict 0x7fdd85f1b180>\n",
      "gc: collectable <dict 0x7fdd85f1b240>\n",
      "gc: collectable <CleanupGraph 0x7fdd85f2b340>\n",
      "gc: collectable <CleanupGraph 0x7fdd85f2b520>\n",
      "gc: collectable <dict 0x7fdd85f1b340>\n",
      "gc: collectable <dict 0x7fdd85f1b680>\n"
     ]
    }
   ],
   "source": [
    "import gc\n",
    "flags = gc.DEBUG_LEAK\n",
    "\n",
    "gc.set_debug(flags)\n",
    "\n",
    "class Graph:\n",
    "    \n",
    "    def __init__(self, name):\n",
    "        self.name = name\n",
    "        self.next = None\n",
    "        \n",
    "    def set_next(self, next):\n",
    "        self.next = next\n",
    "        \n",
    "    def __repr__(self) :\n",
    "        return '{}({})'.format(\n",
    "            self.__class__.__name__, self.name)\n",
    "\n",
    "class CleanupGraph(Graph):\n",
    "    \n",
    "    def __del__(self) :\n",
    "        print('{}.__del__()'.format(self))\n",
    "              \n",
    "one = Graph('one')\n",
    "two = Graph('two')\n",
    "one.set_next(two)\n",
    "two.set_next(one)\n",
    "            \n",
    "three = CleanupGraph('three')\n",
    "\n",
    "four = CleanupGraph('four')\n",
    "five = CleanupGraph('five')\n",
    "four.set_next(five)\n",
    "five.set_next(four)\n",
    "                    \n",
    "one = two = three = four = five = None\n",
    "                    \n",
    "# Принудительный запуск сборщика мусора\n",
    "print('Collecting')\n",
    "gc.collect ()\n",
    "print('Done')\n",
    "      \n",
    "# Вывести информацию об оставшихся объектах\n",
    "for o in gc.garbage:\n",
    "    if isinstance(o, Graph):\n",
    "        print('Retained: {} Ox{:x}'.format(o, id(o)))\n",
    "      \n",
    "    \n",
    "# Сбросить флаги отладки перед выходом    \n",
    "gc.set_debug(0)"
   ]
  },
  {
   "cell_type": "code",
   "execution_count": null,
   "metadata": {},
   "outputs": [],
   "source": []
  }
 ],
 "metadata": {
  "kernelspec": {
   "display_name": "Python 3",
   "language": "python",
   "name": "python3"
  },
  "language_info": {
   "codemirror_mode": {
    "name": "ipython",
    "version": 3
   },
   "file_extension": ".py",
   "mimetype": "text/x-python",
   "name": "python",
   "nbconvert_exporter": "python",
   "pygments_lexer": "ipython3",
   "version": "3.8.3"
  }
 },
 "nbformat": 4,
 "nbformat_minor": 4
}
